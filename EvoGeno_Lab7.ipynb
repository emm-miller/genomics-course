{
 "cells": [
  {
   "cell_type": "markdown",
   "id": "ae813900",
   "metadata": {},
   "source": [
    "# Lab 7: git and GitHub\n",
    " \n",
    "\n",
    "## Acknowledgements\n",
    "\n",
    "Much of the material for this lesson was borrowed from or inspired by Matt Jones' NCEAS Reproducible Research Techniques for Synthesis workshop](https://learning.nceas.ucsb.edu/2020-02-RRCourse/)\n",
    "\n",
    "\n",
    "## Learning Objectives\n",
    "\n",
    "In this lab, you will learn:\n",
    "\n",
    "- What computational reproducibility is and why it is useful\n",
    "- How version control can increase computational reproducibility\n",
    "- to set up git on your computer\n",
    "- to use git and github to track changes to your work over time\n",
    "\n",
    "\n",
    "## Reproducible Research\n",
    "\n",
    "Reproducibility is the hallmark of science, which is based on empirical observations \n",
    "coupled with explanatory models.  While reproducibility encompasses \n",
    "the full science lifecycle, and includes issues such as methodological consistency and\n",
    "treatment of bias, in this course we will focus on **computational reproducibility**: \n",
    "the ability to document data, analyses, and models sufficiently for other researchers \n",
    "to be able to understand and ideally re-execute the computations that led to \n",
    "scientific results and conclusions.\n",
    "\n",
    "### What is needed for computational reproducibility?\n",
    "\n",
    "The first step towards addressing these issues is to be able to evaluate the data,\n",
    "analyses, and models on which conclusions are drawn.  Under current practice, \n",
    "this can be difficult because data are typically unavailable, the method sections\n",
    "of papers do not detail the computational approaches used, and analyses and models\n",
    "are often conducted in graphical programs, or, when scripted analyses are employed,\n",
    "the code is not available.\n",
    "\n",
    "And yet, this is easily remedied.  Researchers can achieve computational \n",
    "reproducibility through open science approaches, including straightforward steps \n",
    "for archiving data and code openly along with the scientific workflows describing \n",
    "the provenance of scientific results (e.g., @hampton_tao_2015, @munafo_manifesto_2017).\n",
    "\n",
    "### Conceptualizing workflows\n",
    "\n",
    "Scientific workflows encapsulate all of the steps from data acquisition, cleaning,\n",
    "transformation, integration, analysis, and visualization.  \n",
    "\n",
    "![](images/workflow.png)\n",
    "\n",
    "Workflows can range in detail from simple flowcharts \n",
    "to fully executable scripts. R scripts and python scripts are a textual form \n",
    "of a workflow, and when researchers publish specific versions of the scripts and \n",
    "data used in an analysis, it becomes far easier to repeat their computations and \n",
    "understand the provenance of their conclusions.\n",
    "\n",
    "### The problem with filenames\n",
    "\n",
    "Every file in the scientific process changes.  Manuscripts are edited.\n",
    "Figures get revised.  Code gets fixed when problems are discovered.  Data files\n",
    "get combined together, then errors are fixed, and then they are split and \n",
    "combined again. In the course of a single analysis, one can expect thousands of\n",
    "changes to files.  And yet, all we use to track this are simplistic *filenames*.  \n",
    "You might think there is a better way, and you'd be right: __version control__.\n",
    "\n",
    "Version control systems help you track all of the changes to your files, without\n",
    "the spaghetti mess that ensues from simple file renaming.  In version control systems\n",
    "like `git`, the system tracks not just the name of the file, but also its contents,\n",
    "so that when contents change, it can tell you which pieces went where.  It tracks\n",
    "which version of a file a new version came from.  So its easy to draw a graph\n",
    "showing all of the versions of a file, like this one:\n",
    "\n",
    "![](images/version-graph.png)\n",
    "\n",
    "Version control systems assign an identifier to every version of every file, and \n",
    "track their relationships. They also allow branches in those versions, and merging\n",
    "those branches back into the main line of work.  They also support having \n",
    "*multiple copies* on multiple computers for backup, and for collaboration.\n",
    "And finally, they let you tag particular versions, such that it is easy to return \n",
    "to a set of files exactly as they were when you tagged them.  For example, the \n",
    "exact versions of data, code, and narrative that were used when a manuscript was originally \n",
    "submitted might be `eco-ms-1` in the graph above, and then when it was revised and resubmitted,\n",
    "it was done with tag `eco-ms-2`.  A different paper was started and submitted with tag `dens-ms-1`, showing that you can be working on multiple manuscripts with closely related but not identical sets of code and data being used for each, and keep track of it all.\n",
    "\n",
    "\n",
    "## Version control and Collaboration using Git and GitHub\n",
    "\n",
    "First, just what are `git` and GitHub?\n",
    "\n",
    "- __git__: version control software used to track files in a folder (a repository)\n",
    "    - git creates the versioned history of a repository\n",
    "- __GitHub__: web site that allows users to store their git repositories and share them with others\n",
    "\n",
    "\n",
    "### Getting started on GitHub\n",
    "\n",
    "Go to https://github.com/ and sign up for an account. This is a good opportunity to create a professional presence in the bioinformatics and data science world.\n",
    "\n",
    "### Creating a personal access token \n",
    "\n",
    "Starting this fall GitHub is requiring personal access tokens. To generate one follow https://docs.github.com/en/authentication/keeping-your-account-and-data-secure/creating-a-personal-access-token This will serve as your password later.\n",
    "\n",
    "### Cloning a repository\n",
    "\n",
    "You can clone any Github repository. This is the whole purpose, to openly share code. To do this you must install git on your computer.  Fortunately for us git is already\n",
    "\n",
    "\n",
    "Let's start by cloning the course repository - https://github.com/jeffreyblanchard/EvoGeno2021PyTo do so, locate the green \"CODE\" button and copy the URL. Now go to RStudio Cloud or Unity and open a terminal. Type\n"
   ]
  },
  {
   "cell_type": "code",
   "execution_count": null,
   "id": "036564bc",
   "metadata": {},
   "outputs": [],
   "source": [
    "git clone https://github.com/jeffreyblanchard/EvoGeno2021Py.git"
   ]
  },
  {
   "cell_type": "markdown",
   "id": "e2023f14",
   "metadata": {},
   "source": [
    "If you type ls you will now see a new directory \"EvoGeno2021Py\" with all of the class materials. To update the directory use the git pull command when you are inside the directory"
   ]
  },
  {
   "cell_type": "code",
   "execution_count": null,
   "id": "4b928338",
   "metadata": {},
   "outputs": [],
   "source": [
    "cd EvoGeno2021Py\n",
    "git pull"
   ]
  },
  {
   "cell_type": "markdown",
   "id": "81d57591",
   "metadata": {},
   "source": [
    "*** Note: If you change the contents of the directory in any way it will be out of sync with the course git hub repo and you will get an error when you try to pull. More on this in a bit"
   ]
  },
  {
   "cell_type": "markdown",
   "id": "ab26bea5",
   "metadata": {},
   "source": [
    "### Create your own repository on GitHub \n",
    "\n",
    "Next create a repository on GitHub, then we'll edit some files.\n",
    "\n",
    "- Log into [GitHub](https://github.com)\n",
    "- Click on the Repositories tab\n",
    "- Click the New Repository button\n",
    "- Name it `genomics-course` or something similar\n",
    "- Create a README.md\n",
    "- Set the LICENSE to Apache 2.0\n",
    "\n",
    "You've now created your first repository! It has a couple of files that GitHub created\n",
    "for you, like the README.md file, and the LICENSE file\n",
    "\n",
    "For simple changes to text files, you can make edits right in the GitHub web interface.  For example,\n",
    "navigate to the `README.md` file in the file listing, and edit it by clicking on the *pencil* icon.\n",
    "This is a regular Markdown file, so you can just add text, and when done, add a commit message, and \n",
    "hit the `Commit changes` button.  \n",
    "\n",
    "Congratulations, you've now authored your first versioned commit.  If you navigate back to the GitHub page for the repository, you'll see your commit listed there, as well as the\n",
    "rendered README.md file.\n",
    "\n",
    "Now locate the green `CODE` button and copy the URL. Now go to RStudio Cloud or Unity and open a terminal. Type git clone and the name of your URL as you did above."
   ]
  },
  {
   "cell_type": "markdown",
   "id": "839c3d98",
   "metadata": {},
   "source": [
    "### Pushing and Pulling changes.  \n",
    "\n",
    "Make a simple change to your README file directly in your GitHub repo.  In order for your RStudio Cloud or Unity to update that change move into your GitHub directory in RStudio Cloud or Unity and"
   ]
  },
  {
   "cell_type": "code",
   "execution_count": null,
   "id": "d754a96c",
   "metadata": {},
   "outputs": [],
   "source": [
    "git pull"
   ]
  },
  {
   "cell_type": "markdown",
   "id": "735b9cc4",
   "metadata": {},
   "source": [
    "***Once you have created a Git repository on RStudio Cloud, Unity or your laptop I recommend NOT making changes on the Github site as it is easy to get the repositories out of sync"
   ]
  },
  {
   "cell_type": "markdown",
   "id": "5452c837",
   "metadata": {},
   "source": [
    "Now create a new Jupyter notebook file in your repo/directory on RStudio Cloud or Unity and put some simple text and code in the notebook. Save it as test.ipynb\n",
    "\n",
    "To make the notebook file or any changes to it visible on GitHub we have to \"Push\" the changes. This involves a series of steps which include indicate which specific which changes to the local working files should be staged for versioning (using the `git add` command), and when to record those changes as a version in the local repository (using the command `git commit`).\n",
    "\n",
    "The remaining concepts are involved in synchronizing the changes in your local repository with changes in a remote repository.  The `git push` command is used to send local changes up to the remote repository on GitHub, \n",
    "\n",
    "![](images/git-flowchart.png)\n"
   ]
  },
  {
   "cell_type": "markdown",
   "id": "ca43169d",
   "metadata": {},
   "source": [
    "In your terminal type"
   ]
  },
  {
   "cell_type": "code",
   "execution_count": null,
   "id": "e424812e",
   "metadata": {},
   "outputs": [],
   "source": [
    "git add test.ipynb"
   ]
  },
  {
   "cell_type": "markdown",
   "id": "7b7cd54e",
   "metadata": {},
   "source": [
    "then"
   ]
  },
  {
   "cell_type": "code",
   "execution_count": null,
   "id": "03f9de3f",
   "metadata": {},
   "outputs": [],
   "source": [
    "git commit"
   ]
  },
  {
   "cell_type": "markdown",
   "id": "e6af2ab2",
   "metadata": {},
   "source": [
    "    When using the git commit command in RStudio or Unity it will open the Unix text editors `vim` and `nano` respectively. You will need to learn a few import commands\n",
    "    \n",
    "\n",
    "- `vim` starts in the command mode. To insert text type `i` and add your commit message (e.g. Adding test file). To exit the insert mode hit `esc`. To save and exit `vim` `shift ZZ` with shift held down for both Zs. For more info on `vim` https://www.vim.org/\n",
    "\n",
    "- In `nano` you can start typing your commit message like 'Adding test file'. Then use `ctr x` to exit and save the changes to the file. For more info on `nano` https://www.nano-editor.org/docs.php\n",
    "\n",
    "Now you can `Push` the changes to your GitHub repo"
   ]
  },
  {
   "cell_type": "code",
   "execution_count": null,
   "id": "7a779250",
   "metadata": {},
   "outputs": [],
   "source": [
    "git push"
   ]
  },
  {
   "cell_type": "markdown",
   "id": "271656f6",
   "metadata": {},
   "source": [
    "The first time doing this you will need to add the email you used for Github and your username following the suggested command line syntax"
   ]
  },
  {
   "cell_type": "markdown",
   "id": "5bc580ef",
   "metadata": {},
   "source": [
    "### Deleting files in git\n",
    "\n",
    "If you delete a file from your RStudio Cloud or Unity git repository, you still need to tell Github about it. The process is still the same as shown with the example.txt file"
   ]
  },
  {
   "cell_type": "code",
   "execution_count": null,
   "id": "b4e6e6b9",
   "metadata": {},
   "outputs": [],
   "source": [
    "git add example.txt\n",
    "git commit\n",
    "git push"
   ]
  },
  {
   "cell_type": "markdown",
   "id": "fca46bfd",
   "metadata": {},
   "source": [
    "### On good commit messages\n",
    "\n",
    "Clearly, good documentation of what you've done is critical to making the version history of your repository meaningful and helpful.  Its tempting to skip the commit message altogether, or to add some stock blurd like 'Updates'.  Its better to use messages that will be helpful to your future self in deducing not just what you did, but why you did it.  Also, commit messaged are best understood if they follow the active verb convention.  For example, you can see that my commit messages all started with a past tense verb, and then explained what was changed.\n",
    "\n",
    "While some of the changes we illustrated here were simple and so easily explained in a short phrase, for more complext changes, its best to provide a more complete message.  The convention, however, is to always have a short, terse first sentence, followed by a more verbose explanation of the details and rationale for the change. This keeps the high level details readable in the version log.  I can't count the number of times I've looked at the commit log from 2, 3, or 10 years prior and been so grateful for diligence of my past self and collaborators."
   ]
  },
  {
   "cell_type": "markdown",
   "id": "4a17a2c4",
   "metadata": {},
   "source": [
    "### Github web pages\n",
    "\n",
    "You can enable Github pages to create a web presence for your project. \n",
    "\n",
    "- Go to your repository you just created\n",
    "- Click on Settings\n",
    "- Scroll down to GitHub pages\n",
    "- Select Master branch\n",
    "- Click on Save\n",
    "(Do not choose a theme today. You have the option of choosing a theme later).\n",
    "- It will create a GitHub page (e.g. https://jeffreyblanchard.github.io/jeffblanchard/)\n",
    "- Copy the link to your GitHub page\n",
    "- Go to the main page for your web (e.g. jeffblanchard) repository.\n",
    "- In the `about section` add the url to your GitHub repo page\n",
    "\n",
    "Under the settings tab enable Github pages.  It takes about 10 min for the web site to appear. The default web pages in the README.md file, but if you create and upload an index.html page this will be your new default. This provides a way to see the html files in your browser as you intended them to appear (not just the html code).  \n",
    "\n",
    "* Note: It is critical that you use a small `i` in  `index.html` and not a captial `I`\n",
    "\n",
    "\n",
    "### Github project management\n",
    "\n",
    "You can keep tract of ideas, todos and fixes by creating a wiki or using the Project\n",
    "\n",
    "![Managing projects on Github](images/Project_Acidos.png)\n",
    "\n",
    "\n",
    "\n",
    "### Collaboration and conflict free workflows (we walk talk more about this later in the class)\n",
    "\n",
    "Up to now, we have been focused on using Git and GitHub for yourself, which is a great use. But equally powerful is to share a GitHib repository with other researchers so that you can work on code, analyses, and models together.  When working together, you will need to pay careful attention to the state of the remote repository to avoid and handle merge conflicts.  A *merge conflict* occurs when two collaborators make two separate commits that change the same lines of the same file.  When this happens, git can't merge the changes together automatically, and will give you back an error asking you to resolve the conflict. Don't be afraid of merge conflicts, they are pretty easy to handle.  and there are some \n",
    "[great](https://help.github.com/articles/resolving-a-merge-conflict-using-the-command-line/) [guides](https://stackoverflow.com/questions/161813/how-to-resolve-merge-conflicts-in-git).\n",
    "\n",
    "That said, its truly painless if you can avoid merge conflicts in the first place. You can minimize conflicts by:\n",
    "\n",
    "- Ensure that you pull down changes just before you commit\n",
    "  + Ensures that you have the most recent changes\n",
    "  + But you may have to fix your code if conflict would have occurred\n",
    "- Coordinate with your collaborators on who is touching which files\n",
    "  + You still need to comunicate to collaborate\n",
    "\n",
    "### More with git\n",
    "\n",
    "There's a lot we haven't covered in this brief tutorial.  There are some good longer tutorials that cover additional topics:\n",
    "\n",
    "- Git Guides - https://github.com/git-guides/git-push\n",
    "- Git cheatsheat - https://github.com/git-guides/git-push\n",
    "- Git Learning Lab - https://lab.github.com/\n",
    "- [Happy Git and Github for the useR](https://happygitwithr.com/)\n",
    "- [Try Git](https://try.github.io) a great interactive tutorial\n",
    "- Software Carpentry [Version Control with Git](http://swcarpentry.github.io/git-novice/)\n",
    "\n",
    "\n",
    "### Example Github repositories and pages\n",
    "\n",
    "- Nick Reich - https://github.com/nickreich\n",
    "- Noelle Beckman - http://seedscape.github.io/BeckmanLab/Beckman.html\n",
    "- Women In Soil Ecology - https://womeninsoilecology.github.io/\n",
    "- Frank Alyward - https://github.com/faylward"
   ]
  },
  {
   "cell_type": "markdown",
   "id": "211fe6b1",
   "metadata": {},
   "source": [
    "## Exercises\n",
    "\n",
    "You only need to turn in the link to your GitHub repository. In it should be your new course repo and a test file."
   ]
  },
  {
   "cell_type": "code",
   "execution_count": null,
   "id": "cf3cd695",
   "metadata": {},
   "outputs": [],
   "source": []
  }
 ],
 "metadata": {
  "kernelspec": {
   "display_name": "Python 3.9.5 - rstudio",
   "language": "python",
   "name": "rstudio-user-3.9.5"
  },
  "language_info": {
   "codemirror_mode": {
    "name": "ipython",
    "version": 3
   },
   "file_extension": ".py",
   "mimetype": "text/x-python",
   "name": "python",
   "nbconvert_exporter": "python",
   "pygments_lexer": "ipython3",
   "version": "3.9.5"
  }
 },
 "nbformat": 4,
 "nbformat_minor": 5
}

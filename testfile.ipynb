{
 "cells": [
  {
   "cell_type": "markdown",
   "id": "8cc24f71",
   "metadata": {},
   "source": [
    "Here is a new example file"
   ]
  },
  {
   "cell_type": "code",
   "execution_count": 1,
   "id": "7af617b6",
   "metadata": {},
   "outputs": [
    {
     "name": "stdout",
     "output_type": "stream",
     "text": [
      "here is some example code!\n"
     ]
    }
   ],
   "source": [
    "print(\"here is some example code!\")"
   ]
  },
  {
   "cell_type": "code",
   "execution_count": null,
   "id": "963737de",
   "metadata": {},
   "outputs": [],
   "source": []
  }
 ],
 "metadata": {
  "kernelspec": {
   "display_name": "Python 3.9.5 - rstudio",
   "language": "python",
   "name": "rstudio-user-3.9.5"
  },
  "language_info": {
   "codemirror_mode": {
    "name": "ipython",
    "version": 3
   },
   "file_extension": ".py",
   "mimetype": "text/x-python",
   "name": "python",
   "nbconvert_exporter": "python",
   "pygments_lexer": "ipython3",
   "version": "3.9.5"
  }
 },
 "nbformat": 4,
 "nbformat_minor": 5
}
